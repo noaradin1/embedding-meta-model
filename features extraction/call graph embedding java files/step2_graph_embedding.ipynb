{
 "cells": [
  {
   "cell_type": "code",
   "execution_count": 1,
   "id": "fee963b4-e122-4e1a-bf09-809ba49e6f6b",
   "metadata": {},
   "outputs": [],
   "source": [
    "import os\n",
    "import json\n",
    "import glob\n",
    "import hashlib\n",
    "import pandas as pd\n",
    "import networkx as nx\n",
    "from tqdm import tqdm\n",
    "from joblib import Parallel, delayed\n",
    "from gensim.models.doc2vec import Doc2Vec, TaggedDocument\n",
    "\n",
    "class WeisfeilerLehmanMachine:\n",
    "    \"\"\"\n",
    "    Weisfeiler Lehman feature extractor class.\n",
    "    \"\"\"\n",
    "    def __init__(self, graph, features, iterations):\n",
    "        \"\"\"\n",
    "        Initialization method which also executes feature extraction.\n",
    "        :param graph: The Nx graph object.\n",
    "        :param features: Feature hash table.\n",
    "        :param iterations: Number of WL iterations.\n",
    "        \"\"\"\n",
    "        self.iterations = iterations\n",
    "        self.graph = graph\n",
    "        self.features = features\n",
    "        self.nodes = self.graph.nodes()\n",
    "        self.extracted_features = [str(v) for k, v in features.items()]\n",
    "        self.do_recursions()\n",
    "\n",
    "    def do_a_recursion(self):\n",
    "        \"\"\"\n",
    "        The method does a single WL recursion.\n",
    "        :return new_features: The hash table with extracted WL features.\n",
    "        \"\"\"\n",
    "        new_features = {}\n",
    "        for node in self.nodes:\n",
    "            nebs = self.graph.neighbors(str(node))\n",
    "            degs = [self.features[neb] for neb in nebs]\n",
    "            features = [str(self.features[node])]+sorted([str(deg) for deg in degs])\n",
    "            features = \"_\".join(features)\n",
    "            hash_object = hashlib.md5(features.encode())\n",
    "            hashing = hash_object.hexdigest()\n",
    "            new_features[node] = hashing\n",
    "        self.extracted_features = self.extracted_features + list(new_features.values())\n",
    "        return new_features\n",
    "\n",
    "    def do_recursions(self):\n",
    "        \"\"\"\n",
    "        The method does a series of WL recursions.\n",
    "        \"\"\"\n",
    "        for _ in range(self.iterations):\n",
    "            self.features = self.do_a_recursion()\n",
    "\n",
    "def path2name(path):\n",
    "    base = os.path.basename(path)\n",
    "    return os.path.splitext(base)[0]\n",
    "\n",
    "def dataset_reader(path):\n",
    "    \"\"\"\n",
    "    Function to read the graph and features from a json file.\n",
    "    :param path: The path to the graph json.\n",
    "    :return graph: The graph object.\n",
    "    :return features: Features hash table.\n",
    "    :return name: Name of the graph.\n",
    "    \"\"\"\n",
    "    name = path2name(path)\n",
    "    data = json.load(open(path))\n",
    "    graph = nx.from_edgelist(data[\"edges\"])\n",
    "\n",
    "    if \"features\" in data.keys():\n",
    "        features = data[\"features\"]\n",
    "        features = {int(k): v for k, v in features.items()}\n",
    "    else:\n",
    "        features = nx.degree(graph)\n",
    "        features = {k: v for k, v in features}\n",
    "       \n",
    "    return graph, features, name\n",
    "\n",
    "def feature_extractor(path, rounds):\n",
    "    \"\"\"\n",
    "    Function to extract WL features from a graph.\n",
    "    :param path: The path to the graph json.\n",
    "    :param rounds: Number of WL iterations.\n",
    "    :return doc: Document collection object.\n",
    "    \"\"\"\n",
    "    graph, features, name = dataset_reader(path)\n",
    "    machine = WeisfeilerLehmanMachine(graph, features, rounds)\n",
    "    doc = TaggedDocument(words=machine.extracted_features, tags=[\"g_\" + name])\n",
    "    return doc\n",
    "\n",
    "def save_embedding(output_path, model, files, dimensions):\n",
    "    \"\"\"\n",
    "    Function to save the embedding.\n",
    "    :param output_path: Path to the embedding csv.\n",
    "    :param model: The embedding model object.\n",
    "    :param files: The list of files.\n",
    "    :param dimensions: The embedding dimension parameter.\n",
    "    \"\"\"\n",
    "    out = []\n",
    "    for f in files:\n",
    "        identifier = path2name(f)\n",
    "        out.append([identifier] + list(model.docvecs[\"g_\"+identifier]))\n",
    "    column_names = [\"type\"]+[\"x_\"+str(dim) for dim in range(dimensions)]\n",
    "    out = pd.DataFrame(out, columns=column_names)\n",
    "    out = out.sort_values([\"type\"])\n",
    "    out['pv'] = out['type']\n",
    "    out = out.drop(columns=['type'])\n",
    "\n",
    "    out.to_csv(output_path, index=None)\n",
    "    return out\n"
   ]
  },
  {
   "cell_type": "code",
   "execution_count": 2,
   "id": "5baa7152-405a-43bf-bac0-62987dd905cc",
   "metadata": {},
   "outputs": [],
   "source": [
    "graphs = glob.glob(os.path.join('/sise/home/noaradi/meta_model/GraphEmbedding/graphs_new/batch1_manually_defined', \"*.json\"))\n",
    "graphs1 = glob.glob(os.path.join('/sise/home/noaradi/meta_model/GraphEmbedding/graphs_new/batch2_manually_defined', \"*.json\"))"
   ]
  },
  {
   "cell_type": "code",
   "execution_count": 3,
   "id": "b417bcb2-8840-4601-83c9-7a40b8e4e9c3",
   "metadata": {},
   "outputs": [],
   "source": [
    "graphs3 = graphs1 + graphs"
   ]
  },
  {
   "cell_type": "code",
   "execution_count": 5,
   "id": "20d579b5-1360-4241-9448-aabdb5ebb828",
   "metadata": {
    "tags": []
   },
   "outputs": [
    {
     "name": "stderr",
     "output_type": "stream",
     "text": [
      "100%|██████████| 1757/1757 [03:03<00:00,  9.57it/s]\n"
     ]
    },
    {
     "name": "stdout",
     "output_type": "stream",
     "text": [
      "\n",
      "Optimization started.\n",
      "\n"
     ]
    },
    {
     "name": "stderr",
     "output_type": "stream",
     "text": [
      "/tmp/ipykernel_9287/2766264414.py:101: DeprecationWarning: Call to deprecated `docvecs` (The `docvecs` property has been renamed `dv`.).\n",
      "  out.append([identifier] + list(model.docvecs[\"g_\"+identifier]))\n"
     ]
    }
   ],
   "source": [
    "# graphs = glob.glob(os.path.join('/sise/home/noaradi/GraphEmbedding-master/graph_jsons', \"*.json\"))\n",
    "# print(\"\\nFeature extraction started.\\n\")\n",
    "# # document_collections = Parallel(n_jobs=1)(delayed(feature_extractor)(g, 2) for g in tqdm(graphs))\n",
    "document_collections = Parallel(n_jobs=1)(delayed(feature_extractor)(g, 2) for g in tqdm(graphs3))\n",
    "\n",
    "print(\"\\nOptimization started.\\n\")\n",
    "\n",
    "model = Doc2Vec(document_collections,\n",
    "                vector_size=100,\n",
    "                window=5, # doesn't affect\n",
    "                min_count=3,\n",
    "                sample=1,\n",
    "                workers=1,\n",
    "                epochs=100,\n",
    "                alpha=0.05)\n",
    "\n",
    "df2 = save_embedding('graph_embedding_manually_defined_3_100.csv', model, graphs3,100)"
   ]
  }
 ],
 "metadata": {
  "kernelspec": {
   "display_name": "noa_thesis",
   "language": "python",
   "name": "noa_thesis"
  },
  "language_info": {
   "codemirror_mode": {
    "name": "ipython",
    "version": 3
   },
   "file_extension": ".py",
   "mimetype": "text/x-python",
   "name": "python",
   "nbconvert_exporter": "python",
   "pygments_lexer": "ipython3",
   "version": "3.9.18"
  }
 },
 "nbformat": 4,
 "nbformat_minor": 5
}
