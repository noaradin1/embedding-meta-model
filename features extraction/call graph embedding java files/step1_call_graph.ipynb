{
 "cells": [
  {
   "cell_type": "markdown",
   "id": "0c2e736e-6ebd-4934-83cb-d07497ce9f61",
   "metadata": {},
   "source": [
    "### Config"
   ]
  },
  {
   "cell_type": "code",
   "execution_count": 15,
   "id": "882caed3-89f6-4d23-b233-973ef97d67b1",
   "metadata": {},
   "outputs": [],
   "source": [
    "java_path = '/sise/home/noaradi/new_data_extraction/labels_repo'\n",
    "save_to_path = '/sise/home/noaradi/meta_model/GraphEmbedding/graphs_new/batch3_manually_defined/'"
   ]
  },
  {
   "cell_type": "markdown",
   "id": "2a4371f2-ea2c-4478-8f26-83fb4ef9831f",
   "metadata": {},
   "source": [
    "### Imports"
   ]
  },
  {
   "cell_type": "code",
   "execution_count": 1,
   "id": "e4ebcd96-aa2f-482e-9bfc-e400a7823719",
   "metadata": {},
   "outputs": [],
   "source": [
    "import javalang\n",
    "import networkx as nx\n",
    "import matplotlib.pyplot as plt\n",
    "import os\n",
    "import json"
   ]
  },
  {
   "cell_type": "markdown",
   "id": "8b53075a-cea2-4ae4-b9b4-8037604e6094",
   "metadata": {},
   "source": [
    "### Functions"
   ]
  },
  {
   "cell_type": "code",
   "execution_count": 2,
   "id": "dd9236d0-3e3b-4967-af87-cf6858a46627",
   "metadata": {},
   "outputs": [],
   "source": [
    "def parse_java_files(path):\n",
    "    \"\"\"\n",
    "    Parse Java files located in the specified directory and its subdirectories. (without Test files or Abstract files\n",
    "\n",
    "    Args:\n",
    "        path (str): The directory path containing Java files.\n",
    "\n",
    "    Returns:\n",
    "        list: A list of tuples containing parsed Java files.\n",
    "              Each tuple consists of the filename and its parsed representation.\n",
    "    \"\"\"\n",
    "    parsed_files = []\n",
    "\n",
    "    # Iterate over Java files in the specified directory and its subdirectories\n",
    "    for filename in glob.iglob(path + '/**/*.java', recursive=True):\n",
    "        # Check if the file is a Java file and does not contain 'test', 'Test', or 'abstract' in its name\n",
    "        if filename.endswith('.java') and 'test' not in filename and 'Test' not in filename and 'abstract' not in filename.lower():\n",
    "            # Skip directories\n",
    "            if os.path.isdir(filename):\n",
    "                print(filename + \" is a directory\")\n",
    "                continue\n",
    "            \n",
    "            # Read the contents of the Java file\n",
    "            with open(filename, 'r') as file:\n",
    "                try:\n",
    "                    source_code = file.read()\n",
    "                except UnicodeDecodeError:\n",
    "                    # Skip files with UnicodeDecodeError\n",
    "                    continue\n",
    "            \n",
    "            # Parse the Java source code and append the result to parsed_files\n",
    "            try:\n",
    "                parsed_files.append((filename, javalang.parse.parse(source_code)))\n",
    "            except Exception as e:\n",
    "                # Skip files that fail to parse\n",
    "                print(f\"Error parsing {filename}: {str(e)}\")\n",
    "                continue\n",
    "    \n",
    "    return parsed_files"
   ]
  },
  {
   "cell_type": "code",
   "execution_count": 3,
   "id": "a6ab597a-ddcb-4a03-84c7-c82dfc8bb694",
   "metadata": {},
   "outputs": [],
   "source": [
    "def save_graph_to_json(graph, json_file):\n",
    "    \"\"\"\n",
    "    Save a graph to a JSON file.\n",
    "\n",
    "    Args:\n",
    "        graph (networkx.Graph): The graph to be saved.\n",
    "        json_file (str): The path to the JSON file where the graph will be saved.\n",
    "    \"\"\"\n",
    "    # Convert the graph edges to a list of edge pairs\n",
    "    edges = [[str(u), str(v)] for u, v in graph.edges]\n",
    "\n",
    "    # Create a dictionary representing the graph\n",
    "    graph_dict = {\"edges\": edges}\n",
    "\n",
    "    # Save the graph dictionary as JSON to the specified file\n",
    "    with open(json_file, 'w') as file:\n",
    "        json.dump(graph_dict, file)"
   ]
  },
  {
   "cell_type": "code",
   "execution_count": 26,
   "id": "e5c798fc-050e-4355-a3e0-6449911e9a49",
   "metadata": {},
   "outputs": [],
   "source": [
    "def implement_or_extend(tree):\n",
    "    # Extract implemented interfaces (if any)\n",
    "    implement = getattr(tree.types[0], 'implements', None) if len(tree.types)>0 else None\n",
    "\n",
    "    # Extract extended class (if any)\n",
    "    extends = getattr(tree.types[0], 'extends', None)if len(tree.types)>0 else None\n",
    "    return implement, extends"
   ]
  },
  {
   "cell_type": "code",
   "execution_count": 6,
   "id": "84b0d182-6f6c-4e1e-b5a4-28855c711abe",
   "metadata": {},
   "outputs": [],
   "source": [
    "def get_imports(tree):\n",
    "    return [importname.path for importname in tree.imports]"
   ]
  },
  {
   "cell_type": "code",
   "execution_count": 7,
   "id": "08547dc3-71a1-4732-b742-0ecd149e97ec",
   "metadata": {},
   "outputs": [],
   "source": [
    "def local_variable_dec_nodes(tree, dict_mapping):\n",
    "    for path, node in tree.filter(javalang.tree.LocalVariableDeclaration):\n",
    "        for declarator in node.declarators:\n",
    "            if isinstance(declarator.initializer, javalang.tree.MethodInvocation):\n",
    "                for children in declarator.children:\n",
    "                    try:\n",
    "                        dict_mapping[declarator.name] = children.qualifier\n",
    "                    except:\n",
    "                        pass\n",
    "            else:  \n",
    "                if declarator.initializer:\n",
    "                    try:\n",
    "                        dict_mapping[declarator.name] = declarator.initializer.type.name\n",
    "                    except:\n",
    "                        pass\n",
    "                    try:\n",
    "                        dict_mapping[declarator.name] = node.type.name\n",
    "                    except:\n",
    "                        pass\n",
    "    return dict_mapping"
   ]
  },
  {
   "cell_type": "code",
   "execution_count": 8,
   "id": "71f36344-e7a6-4bd7-9d09-f2fdc0f55317",
   "metadata": {},
   "outputs": [],
   "source": [
    "def class_dec_nodes(tree, dict_mapping):\n",
    "    for path, node in tree.filter(javalang.tree.ClassDeclaration):\n",
    "        for p,declarator in node.filter(javalang.tree.StatementExpression):\n",
    "            if isinstance(declarator.expression, javalang.tree.Assignment):\n",
    "                try:\n",
    "                    dict_mapping[declarator.expression.expressionl.member] = declarator.expression.value.type.name\n",
    "                except:\n",
    "                    pass\n",
    "    return dict_mapping"
   ]
  },
  {
   "cell_type": "code",
   "execution_count": 9,
   "id": "35ca2141-bf27-4863-9965-d3d2313cd7b3",
   "metadata": {},
   "outputs": [],
   "source": [
    "def field_dec_nodes(tree, dict_mapping):\n",
    "    for path, node in tree.filter(javalang.tree.FieldDeclaration):\n",
    "        for declarator in node.declarators:\n",
    "            dict_mapping[declarator.name] = node.type.name\n",
    "    return dict_mapping"
   ]
  },
  {
   "cell_type": "code",
   "execution_count": 10,
   "id": "07526bd0-b393-4111-a653-fe0040e2e283",
   "metadata": {},
   "outputs": [],
   "source": [
    "def formal_param_nodes(tree, dict_mapping):\n",
    "    for path, node in tree.filter(javalang.tree.FormalParameter):\n",
    "        dict_mapping[node.name] = node.type.name\n",
    "    return dict_mapping"
   ]
  },
  {
   "cell_type": "code",
   "execution_count": 27,
   "id": "5ba5d90e-c48e-4068-b10a-cd298f183924",
   "metadata": {},
   "outputs": [],
   "source": [
    "def create_call_graph(java_files,project_name):\n",
    "    # Create an empty graph\n",
    "    call_graph = nx.DiGraph()\n",
    "    nodes_mapping = {}\n",
    "    methods_declerated = []\n",
    "    index = 0\n",
    "    i = 0\n",
    "    # Traverse the parsed files and add edges to the graph\n",
    "    for file_path, tree in java_files:\n",
    "        # print(i)\n",
    "        i += 1\n",
    "        imports = get_imports(tree)\n",
    "        # check if the class is implementing another class\n",
    "        implement, extends = implement_or_extend(tree)\n",
    "        # map variable name to Class\n",
    "        dict_mapping = {}\n",
    "        dict_mapping = local_variable_dec_nodes(tree, dict_mapping)\n",
    "        dict_mapping = class_dec_nodes(tree, dict_mapping)\n",
    "        dict_mapping = field_dec_nodes(tree, dict_mapping)\n",
    "        dict_mapping = formal_param_nodes(tree, dict_mapping)\n",
    "\n",
    "        methods_in_file = [node.name for path, node in tree.filter(javalang.tree.MethodDeclaration) ]\n",
    "        # for each declared method in class file\n",
    "        for path, node in tree.filter(javalang.tree.MethodDeclaration):\n",
    "            file = file_path.split('/')[-1].split('.')[0]\n",
    "            caller_node = f'{file}.{node.name}'\n",
    "            # add the caller node to the general dictionary\n",
    "            if node.annotations != [] and node.annotations[0].name=='Deprecated':\n",
    "                continue\n",
    "            methods_declerated.append(caller_node)\n",
    "            caller_node = nodes_mapping.get(f'{file}.{node.name}',None)\n",
    "            if caller_node is None:\n",
    "                nodes_mapping[f'{file}.{node.name}'] = index\n",
    "                index += 1\n",
    "            if implement:\n",
    "                # if node.annotations != [] : #and node.annotations[0].name=='Override'\n",
    "                    from_file = implement[0].name\n",
    "                    implemented_node = nodes_mapping.get(f'{from_file}.{node.name}',None)\n",
    "                    if implemented_node is None:\n",
    "                        nodes_mapping[f'{from_file}.{node.name}'] = index\n",
    "                        index += 1\n",
    "                    call_graph.add_edge(nodes_mapping[f'{file}.{node.name}'], nodes_mapping[f'{from_file}.{node.name}'])\n",
    "            if extends:\n",
    "                if node.annotations != [] and node.annotations[0].name=='Override':\n",
    "                    try:\n",
    "                        from_file = extends.name\n",
    "                    except:\n",
    "                        from_file = extends[0].name\n",
    "                    extended_node = nodes_mapping.get(f'{from_file}.{node.name}',None)\n",
    "                    if extended_node is None:\n",
    "                        nodes_mapping[f'{from_file}.{node.name}'] = index\n",
    "                        index += 1\n",
    "                    call_graph.add_edge(nodes_mapping[f'{file}.{node.name}'], nodes_mapping[f'{from_file}.{node.name}'])\n",
    "\n",
    "            counter = 0\n",
    "            for _, method_call in node.filter(javalang.tree.MethodInvocation):\n",
    "                counter += 1\n",
    "                if not method_call.qualifier:\n",
    "                    if method_call.member in methods_in_file:\n",
    "                        qualifier = file\n",
    "                    else:\n",
    "                        continue\n",
    "                else:\n",
    "                    qualifier = method_call.qualifier if method_call.qualifier else 'None'\n",
    "                member = method_call.member\n",
    "                if '.' in qualifier:\n",
    "                    splitted = qualifier.split('.')\n",
    "                    left = '.'.join(splitted[:-1])\n",
    "                    right = splitted[-1]\n",
    "                    qualifier = left\n",
    "                if qualifier in dict_mapping:\n",
    "                    qualifier = dict_mapping[qualifier]\n",
    "                external = False\n",
    "                for importname in imports:\n",
    "                    if qualifier in importname and project_name not in importname:\n",
    "                        external = True\n",
    "                if external or qualifier in ['Character','String','Long','Integer']:\n",
    "                    continue\n",
    "                callee_node = nodes_mapping.get(f'{qualifier}.{member}',None)\n",
    "                if callee_node is None:\n",
    "                    nodes_mapping[f'{qualifier}.{member}'] = index\n",
    "                    index += 1\n",
    "                call_graph.add_edge(nodes_mapping[f'{file}.{node.name}'], nodes_mapping[f'{qualifier}.{member}'])\n",
    "    nodes_to_keep = []\n",
    "    for method in methods_declerated:\n",
    "        nodes_to_keep.append(nodes_mapping[method])\n",
    "    graph_to_return = nx.subgraph(call_graph,nodes_to_keep)\n",
    "    return graph_to_return, nodes_mapping\n"
   ]
  },
  {
   "cell_type": "code",
   "execution_count": 16,
   "id": "122e731b-bb2f-4281-b776-0a5f6b747a5e",
   "metadata": {},
   "outputs": [],
   "source": [
    "import glob\n",
    "import pandas as pd\n",
    "def create_call_graph_projects(java_path,save_to_path,already_written = []):\n",
    "    results_dictionary = {'project':[],'version':[],'without_filtering_total': [], 'without_filtering_found_total': [], 'without_filtering_not_found': [],\n",
    "                      'with_filtering_total': [], 'with_filtering_found_total': [], 'with_filtering_not_found': [],\n",
    "                     }\n",
    "    for folder in sorted(os.listdir(java_path)):\n",
    "        folder_path = java_path + \"/\" + folder\n",
    "        # try:\n",
    "        if os.path.isdir(folder) or folder in already_written: continue\n",
    "        print(folder)\n",
    "        for version in os.listdir(folder_path):\n",
    "            # if os.path.isfile(f'graphs_new/batch1_manually_defined/{folder}_{version}.json'): continue\n",
    "            if version == '.git' or '.csv' in version: continue\n",
    "            i = 0\n",
    "            print(version)\n",
    "            version_path = folder_path + \"/\" + version\n",
    "            results_dictionary['project'].append(folder)\n",
    "            results_dictionary['version'].append(version)\n",
    "\n",
    "            java_files = parse_java_files(version_path)\n",
    "            call_graph,nodes_mapping = create_call_graph(java_files,folder)\n",
    "            save_graph_to_json(call_graph, f'{save_to_path}/{folder}_{version}.json')"
   ]
  },
  {
   "cell_type": "markdown",
   "id": "dcfda031-0786-4ca4-8d18-1840759ec605",
   "metadata": {},
   "source": [
    "# Apply call graph extraction"
   ]
  },
  {
   "cell_type": "code",
   "execution_count": null,
   "id": "e0cc7e44-fe12-4763-8475-e2c1c1438355",
   "metadata": {
    "tags": []
   },
   "outputs": [],
   "source": [
    "create_call_graph_projects(java_path,save_to_path,already_written = [])"
   ]
  }
 ],
 "metadata": {
  "kernelspec": {
   "display_name": "Python 3 (ipykernel)",
   "language": "python",
   "name": "python3"
  },
  "language_info": {
   "codemirror_mode": {
    "name": "ipython",
    "version": 3
   },
   "file_extension": ".py",
   "mimetype": "text/x-python",
   "name": "python",
   "nbconvert_exporter": "python",
   "pygments_lexer": "ipython3",
   "version": "3.10.9"
  }
 },
 "nbformat": 4,
 "nbformat_minor": 5
}
